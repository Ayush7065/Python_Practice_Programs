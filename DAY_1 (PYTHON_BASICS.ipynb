{
 "cells": [
  {
   "cell_type": "code",
   "execution_count": 95,
   "id": "d5053a98-4a96-4e6f-9dca-d8041b4091b7",
   "metadata": {},
   "outputs": [
    {
     "data": {
      "text/plain": [
       "' If we want to comment out certain line of codes we have to \"Select it and the press CTRL+/\\nLike \\n'"
      ]
     },
     "execution_count": 95,
     "metadata": {},
     "output_type": "execute_result"
    }
   ],
   "source": [
    "# This way we can add comments in python \n",
    "'''\n",
    "This is a \n",
    "multiline commenet \n",
    "okay \n",
    "'''\n",
    "\n",
    "''' If we want to comment out certain line of codes we have to \"Select it and the press CTRL+/\n",
    "Like \n",
    "'''\n",
    "# print(\"Hello\")\n",
    "# Print(\"Hello World\") # Remember Python is a case sensitive language\n",
    "# print(\"hey \")"
   ]
  },
  {
   "cell_type": "code",
   "execution_count": 96,
   "id": "2595edc1-13ac-4de5-a866-59ccd46c67c0",
   "metadata": {},
   "outputs": [
    {
     "data": {
      "text/plain": [
       "'\\nfundamental data types\\n\\nint \\nfloat\\nstring\\nboolean\\n'"
      ]
     },
     "execution_count": 96,
     "metadata": {},
     "output_type": "execute_result"
    }
   ],
   "source": [
    "\"\"\"\n",
    "fundamental data types\n",
    "\n",
    "int \n",
    "float\n",
    "string\n",
    "boolean\n",
    "\"\"\""
   ]
  },
  {
   "cell_type": "code",
   "execution_count": 71,
   "id": "127e6513-17f0-4198-b6d6-87e54246df89",
   "metadata": {},
   "outputs": [
    {
     "name": "stdout",
     "output_type": "stream",
     "text": [
      "<class 'str'>\n",
      "<class 'int'>\n",
      "<class 'float'>\n"
     ]
    }
   ],
   "source": [
    "# PREDEFINED FUNCTION FOR FINDING DATATYPE \n",
    "name='Ayush'\n",
    "print(type(name)) # USED TO RETURN DATATYPE\n",
    "age=23\n",
    "print(type(age))\n",
    "CGPA=9.3\n",
    "print(type(CGPA))"
   ]
  },
  {
   "cell_type": "code",
   "execution_count": 81,
   "id": "3850b2a0-cdac-464e-8444-09583113efc5",
   "metadata": {},
   "outputs": [
    {
     "name": "stdout",
     "output_type": "stream",
     "text": [
      "Ayush 23\n",
      "Ayush 9.3 23\n",
      "32.3\n"
     ]
    }
   ],
   "source": [
    "# DATAYPES CONVERSION\n",
    "name='Ayush'\n",
    "age=23\n",
    "print(name+' '+str(age)) # INTEGER CAN BE CONVERTED TO STRING\n",
    "CGPA=9.3\n",
    "print(name+' '+str(CGPA)+' '+str(age)) # FLOAT CAN BE CONVERTED TO STRING\n",
    "# print(int(name)+' '+age) # STRING CANNOT BE CONVERTED TO A INTEGER\n",
    "# print(float(name)+CGPA) # STRING CANNOT BE CONVERTED TO fLOAT\n",
    "print(float(age)+CGPA) # INT CAN BE CONVERTED TO A FLOAT\n"
   ]
  },
  {
   "cell_type": "code",
   "execution_count": 91,
   "id": "e4e95405-7f79-4e98-9108-af4d5807e6d5",
   "metadata": {},
   "outputs": [
    {
     "name": "stdout",
     "output_type": "stream",
     "text": [
      "24\n",
      "6.25\n",
      "6\n",
      "1\n",
      "125\n"
     ]
    }
   ],
   "source": [
    "#OPERATORS\n",
    "# INT_INT\n",
    "print(12+12)\n",
    "print(25/4) # divides exactly to give an answer\n",
    "print(25//4) # retuens qoutient\n",
    "print(25%4) # modulus operator return remainder\n",
    "print(5**3) # second no raised power of first no."
   ]
  },
  {
   "cell_type": "code",
   "execution_count": 92,
   "id": "a07adbc5-004d-436a-8b59-97c9a9bdcb92",
   "metadata": {},
   "outputs": [
    {
     "name": "stdout",
     "output_type": "stream",
     "text": [
      "42.0\n",
      "5.813953488372094\n",
      "5.0\n",
      "3.500000000000001\n",
      "1025987.423595221\n"
     ]
    }
   ],
   "source": [
    "# INT - FLOAT OPERATIONS\n",
    "# ALL OPERATIONS CAN BE PERFORMED\n",
    "print(12*3.5)\n",
    "print(25/4.3)\n",
    "print(25//4.3)\n",
    "print(25%4.3)\n",
    "print(25**4.3)"
   ]
  },
  {
   "cell_type": "code",
   "execution_count": 29,
   "id": "102b3dde-0bdc-4f52-ab29-ca264dcb116c",
   "metadata": {},
   "outputs": [
    {
     "name": "stdout",
     "output_type": "stream",
     "text": [
      "26\n",
      "0\n",
      "25.0\n",
      "25\n",
      "0\n",
      "1\n"
     ]
    }
   ],
   "source": [
    "# INT- BOOLEAN OPERATIONS\n",
    "print(25+True) # Booloean is consider as true or false therefore it adds 1\n",
    "print(25*False) # Booloean is consider as true or false therefore it multiplies 0\n",
    "print(25/True) # After dividing data returned is in float type \n",
    "print(25//True)\n",
    "print(25%True) # remainder here is 0\n",
    "print(25** False) # False is 0 so something to the power 0 is 0"
   ]
  },
  {
   "cell_type": "code",
   "execution_count": 32,
   "id": "a162f667-52f3-437b-9559-045efa5c9208",
   "metadata": {},
   "outputs": [
    {
     "name": "stdout",
     "output_type": "stream",
     "text": [
      "2\n",
      "0\n",
      "0.0\n",
      "1\n",
      "0\n",
      "1\n"
     ]
    }
   ],
   "source": [
    "# BOOlean- BOOLean OPERATIONS\n",
    "print(True+True) # Booloean is consider as true or false therefore it adds 1 and 1\n",
    "print(True*False) # Booloean is consider as true or false therefore it multiplies 1 with 0\n",
    "print(False/True) # After dividing data returned is in float type \n",
    "print(True//True)\n",
    "print(False%True) # remainder here is 0\n",
    "print(True** False)"
   ]
  },
  {
   "cell_type": "code",
   "execution_count": 55,
   "id": "7d5f3e53-0ecc-4b31-a107-a1a505519f8a",
   "metadata": {},
   "outputs": [
    {
     "name": "stdout",
     "output_type": "stream",
     "text": [
      "Fajlse Fajlse Fajlse Fajlse Fajlse Fajlse Fajlse Fajlse Fajlse Fajlse Fajlse Fajlse Fajlse Fajlse Fajlse Fajlse Fajlse Fajlse Fajlse Fajlse Fajlse Fajlse Fajlse Fajlse Fajlse \n"
     ]
    }
   ],
   "source": [
    "# INT-STRING OPERATIONS\n",
    "#print(25+'Trkue') # INT cannot be directly added to a string\n",
    "print(25*'Fajlse ') # multiplication multiples the string 25 times\n",
    "#print(25/'Trjue') # INT and Strings cannot be divided together\n",
    "#print('Trjue'//25) # Floor division cannot be done with INT and String\n",
    "#print('Trjue'%25) # rmodulus operator cannot be used between INT and string\n",
    "#print(25** 'Fajlse') # power operator doesnt work between int and string\n"
   ]
  },
  {
   "cell_type": "code",
   "execution_count": 56,
   "id": "b1ca90b8-764a-421f-9a01-561f519229ec",
   "metadata": {},
   "outputs": [
    {
     "name": "stdout",
     "output_type": "stream",
     "text": [
      "25Trkue\n"
     ]
    }
   ],
   "source": [
    "# STRING-STRING OPERATIONS\n",
    "print('25'+'Trkue') # 2 strings can be added together\n",
    "#print('Trjue'/'25') # two strings cannot be divided\n",
    "#print('Trjue'//'25') # Floor division cannot be done between two strings \n",
    "#print('Trjue'%'25') # rmodulus operator cannot be used between two strings\n",
    "#print('25'** 'Fajlse') # power operator doesnt work"
   ]
  },
  {
   "cell_type": "code",
   "execution_count": 66,
   "id": "312ce2ab-3c6b-4aa7-b953-af241d08d131",
   "metadata": {},
   "outputs": [],
   "source": [
    "# FLOAT_STRING OPERATIONS\n",
    "# print(25.5+'Trkue') # Float cannot be directly added to a string\n",
    "# print(25.5*'Fajlse ') # multiplicationdoesnt work in float and string\n",
    "# print(25.5/'Trjue') # FLOAT and Strings cannot be divided together\n",
    "# print('Trjue'//25.5) # Floor division cannot be done with FLOAT and String\n",
    "# print('Trjue'%25.5) # rmodulus operator cannot be used between Float and string\n",
    "# print(25.5** 'Fajlse') # power operator doesnt work between float and string\n",
    "#\"\" INDENTATION ALSO MATTERS IN PYTHON "
   ]
  },
  {
   "cell_type": "code",
   "execution_count": 85,
   "id": "2e8b6f8f-4e18-45c0-82bf-d059692d9ae6",
   "metadata": {},
   "outputs": [
    {
     "name": "stdin",
     "output_type": "stream",
     "text": [
      "Enter your Name :-  sahil\n",
      "Enter your age :-  53\n",
      "Enter your CGPA :-  9\n"
     ]
    },
    {
     "name": "stdout",
     "output_type": "stream",
     "text": [
      "sahil 53 9\n",
      "How are you ? sahil 53 9\n"
     ]
    }
   ],
   "source": [
    "# BASIC STRUCTURE OF GETTING INPUT AND THEN DISPLAYING AFTER PERFORMING CERTAIN OPERATIONS\n",
    "name= input(int(\"Enter your Name :- \")) # input() FUNCTION IS USED TO GET INPUT FROM USER WHILE DISPLAYING A NAME\n",
    "age= input(\"Enter your age :- \")\n",
    "CGPa= input(\"Enter your CGPA :- \")\n",
    "print(name, age, CGPa)\n",
    "print('How are you ?', name, age, CGPa)"
   ]
  },
  {
   "cell_type": "code",
   "execution_count": 90,
   "id": "d764fd7b-5814-4a89-b30b-53641ca2953b",
   "metadata": {},
   "outputs": [
    {
     "name": "stdin",
     "output_type": "stream",
     "text": [
      "Enter the amount you deposited:-  10000\n",
      "Enter the rate of intrest:-  5.2\n",
      "Enter the time period for which you want to deposit money:-  10\n"
     ]
    },
    {
     "name": "stdout",
     "output_type": "stream",
     "text": [
      "Your simple intrest over a period of  10  years at a rate of  5.2  is :-  5200.0\n",
      "Your Total amount over a period of  10  years at a rate of  5.2  is :-  15200.0\n"
     ]
    }
   ],
   "source": [
    "# FIND SIMPLE INTEREST \n",
    "p=int(input(\"Enter the amount you deposited:- \"))\n",
    "r=float(input(\"Enter the rate of intrest:- \"))\n",
    "t=int(input(\"Enter the time period for which you want to deposit money:- \"))\n",
    "SI=(p*r*t)/100\n",
    "amt=p+SI\n",
    "print('Your simple intrest over a period of ' ,t,' years at a rate of ',r,' is :- ',SI)\n",
    "print('Your Total amount over a period of ' ,t,' years at a rate of ',r,' is :- ',amt)"
   ]
  },
  {
   "cell_type": "code",
   "execution_count": null,
   "id": "929bd20f-b57c-48fb-b094-5e1b7a7077c5",
   "metadata": {},
   "outputs": [],
   "source": []
  }
 ],
 "metadata": {
  "kernelspec": {
   "display_name": "Python 3 (ipykernel)",
   "language": "python",
   "name": "python3"
  },
  "language_info": {
   "codemirror_mode": {
    "name": "ipython",
    "version": 3
   },
   "file_extension": ".py",
   "mimetype": "text/x-python",
   "name": "python",
   "nbconvert_exporter": "python",
   "pygments_lexer": "ipython3",
   "version": "3.12.7"
  }
 },
 "nbformat": 4,
 "nbformat_minor": 5
}
