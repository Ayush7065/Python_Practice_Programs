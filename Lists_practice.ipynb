{
 "cells": [
  {
   "cell_type": "code",
   "execution_count": 13,
   "id": "5dd0ef87-b44e-4193-a785-5037d6cf8d4d",
   "metadata": {},
   "outputs": [
    {
     "name": "stdin",
     "output_type": "stream",
     "text": [
      "Enter the no whoose multiplication tabl you want:-  5\n"
     ]
    },
    {
     "name": "stdout",
     "output_type": "stream",
     "text": [
      "[5, 10, 15, 20, 25, 30, 35, 40, 45, 50]\n"
     ]
    }
   ],
   "source": [
    "num=int(input(\"Enter the no whoose multiplication tabl you want:- \"))\n",
    "n=[num*i for i in range(1,11)]\n",
    "print(n)"
   ]
  },
  {
   "cell_type": "code",
   "execution_count": 14,
   "id": "90e6171e-ba67-4244-91cf-5f9312908e6d",
   "metadata": {},
   "outputs": [
    {
     "name": "stdout",
     "output_type": "stream",
     "text": [
      "50\n"
     ]
    }
   ],
   "source": [
    "# print last element of the list\n",
    "print(n[-1])"
   ]
  },
  {
   "cell_type": "code",
   "execution_count": 15,
   "id": "73864128-e97b-43a6-9e8b-cebf6da76465",
   "metadata": {},
   "outputs": [],
   "source": [
    "# Add an element to the end of the list using append()\n",
    "n.append(55)"
   ]
  },
  {
   "cell_type": "code",
   "execution_count": 39,
   "id": "36d30308-021c-4f8f-9972-801f8dfe0364",
   "metadata": {},
   "outputs": [
    {
     "name": "stdin",
     "output_type": "stream",
     "text": [
      "No. till you want to print even numbers:-  17\n"
     ]
    },
    {
     "name": "stdout",
     "output_type": "stream",
     "text": [
      "The list of even nos. till 17 is :- [2, 4, 6, 8, 10, 12, 14, 16]\n",
      "The length of the list is :- 8\n",
      "The middle three terms of the list are:-[8, 10, 12]\n"
     ]
    }
   ],
   "source": [
    "# Slice the list to print only the middle 3 elements.\n",
    "num=int(input(\"No. till you want to print even numbers:- \"))\n",
    "n=[i for i in range (1,num) if i % 2==0]\n",
    "def slicemid3(lst):\n",
    "    mid=len(lst)//2\n",
    "    return lst[mid-1:mid+2]\n",
    "print(f\"The list of even nos. till {num} is :- {n}\")\n",
    "print(f\"The length of the list is :- {len(n)}\")\n",
    "print(F\"The middle three terms of the list are:-{slicemid3(n)}\")"
   ]
  },
  {
   "cell_type": "code",
   "execution_count": 41,
   "id": "4bf327da-381e-45e7-9cfd-8746c79dc242",
   "metadata": {},
   "outputs": [
    {
     "name": "stdout",
     "output_type": "stream",
     "text": [
      "None\n",
      "[2, 6650, 25, 4, 6, 8, 10, 12, 14, 16]\n"
     ]
    }
   ],
   "source": [
    "# Insert a number at the 2nd position using insert().\n",
    "print(n.insert(1,6650))\n",
    "print(n)"
   ]
  },
  {
   "cell_type": "code",
   "execution_count": 43,
   "id": "88ae1e92-d28d-45c1-a068-3012759ee7fa",
   "metadata": {},
   "outputs": [
    {
     "name": "stdout",
     "output_type": "stream",
     "text": [
      "None\n"
     ]
    }
   ],
   "source": [
    "# Remove an element by value using remove()\n",
    "print(n.remove(25))"
   ]
  },
  {
   "cell_type": "code",
   "execution_count": 45,
   "id": "9aecfe2a-bad2-4379-9961-edd9ecde7e34",
   "metadata": {},
   "outputs": [
    {
     "name": "stdout",
     "output_type": "stream",
     "text": [
      "[2, 4, 6, 8, 10, 12, 14, 16]\n"
     ]
    }
   ],
   "source": [
    "n.remove(6650)\n",
    "print(n)"
   ]
  },
  {
   "cell_type": "code",
   "execution_count": 46,
   "id": "575f4c28-6140-4013-8d7f-59c727932d91",
   "metadata": {},
   "outputs": [
    {
     "data": {
      "text/plain": [
       "16"
      ]
     },
     "execution_count": 46,
     "metadata": {},
     "output_type": "execute_result"
    }
   ],
   "source": [
    "# Remove an element by index using pop()\n",
    "n.pop()"
   ]
  },
  {
   "cell_type": "code",
   "execution_count": 47,
   "id": "1e33ce5e-9d13-460a-8994-d808d97df3c7",
   "metadata": {},
   "outputs": [
    {
     "name": "stdout",
     "output_type": "stream",
     "text": [
      "[2, 4, 6, 8, 10, 12, 14]\n"
     ]
    }
   ],
   "source": [
    "print(n)"
   ]
  },
  {
   "cell_type": "code",
   "execution_count": 57,
   "id": "55da911b-bb9f-4ca0-a412-e39cd510aff7",
   "metadata": {},
   "outputs": [
    {
     "name": "stdin",
     "output_type": "stream",
     "text": [
      "Enter the no. of elements you want in the list:- \n",
      " 5\n",
      "Enter the element you want in the list ayus\n",
      "Enter the element you want in the list 1\n",
      "Enter the element you want in the list 45\n",
      "Enter the element you want in the list fdfs\n",
      "Enter the element you want in the list fsdf\n"
     ]
    },
    {
     "name": "stdout",
     "output_type": "stream",
     "text": [
      "\n",
      "Please choose an option:- \n",
      "\n",
      "1) To insert an elment at a specific position in the list\n",
      "2) To remove an elment from the list\n",
      "3) To replace an element in the list\n",
      "4) To pop an element from the list\n",
      "5) To print middle 3 elements of the list\n",
      "6) Exit\n",
      "\n"
     ]
    },
    {
     "name": "stdin",
     "output_type": "stream",
     "text": [
      "\n",
      "Enter you choice (1,6)\n",
      " 3\n",
      "Enter element you want to replace 45\n",
      "Enter new element shh\n"
     ]
    },
    {
     "name": "stdout",
     "output_type": "stream",
     "text": [
      "Your list after operation is ['ayus', '1', 'shh', 'fdfs', 'fsdf']\n"
     ]
    },
    {
     "name": "stdin",
     "output_type": "stream",
     "text": [
      "Do you want to continue(Y/N) n\n"
     ]
    }
   ],
   "source": [
    "# make a menu driven program to perform list opreration \n",
    "num=int(input(\"Enter the no. of elements you want in the list:- \\n\"))\n",
    "lst=[(input(\"Enter the element you want in the list\")) for i in range(0,num)]\n",
    "def middle_3_term(n):\n",
    "    mid=len(n)//2\n",
    "    return n[mid-1:mid+2]\n",
    "def replace(n):\n",
    "    ele=input(\"Enter element you want to replace\")\n",
    "    num=n.index(ele)\n",
    "    n.insert(num,input(\"Enter new element\"))\n",
    "    n.remove(ele)\n",
    "    return n\n",
    "def user_choice():\n",
    "    while True:\n",
    "        print(\"\\nPlease choose an option:- \\n\")\n",
    "        print(\"1) To insert an elment at a specific position in the list\")\n",
    "        print(\"2) To remove an elment from the list\")\n",
    "        print(\"3) To replace an element in the list\")\n",
    "        print(\"4) To pop an element from the list\")\n",
    "        print(\"5) To print middle 3 elements of the list\")\n",
    "        print(\"6) Exit\\n\")\n",
    "        choice=input(\"\\nEnter you choice (1,6)\\n\")\n",
    "        try:\n",
    "            option=int(choice)\n",
    "            if 1<=option<=6:\n",
    "                return option\n",
    "            else:\n",
    "                print(\"Invalid input choose a number b/w (1-6)\")\n",
    "        except ValueError:\n",
    "            print(\"Enter a valid integer type number\")\n",
    "        except Exception as e:\n",
    "            print(f\"Invalid input error occured {e}\")\n",
    "flag=True\n",
    "while flag:\n",
    "    selected_option=user_choice()\n",
    "    if selected_option==1:\n",
    "        lst.insert(int(input(\"Enter index:-\")),input(\"Enter element:-\"))\n",
    "        print(f\"Your list after operation is {lst}\")\n",
    "    elif selected_option==2:\n",
    "        lst.remove(input(\"Enter the element you want to remove from the list\"))\n",
    "        print(f\"Your list after operation is {lst}\")\n",
    "    elif selected_option==3:\n",
    "        printayu(f\"Your list after operation is {replace(lst)}\")\n",
    "    elif selected_option==4:\n",
    "        lst.pop()\n",
    "        print(f\"Your list after operation is {lst}\")\n",
    "    elif selected_option==5:\n",
    "        print(f\"Your list after operation is {middle_3_term(lst)}\")\n",
    "    elif selected_option==6:\n",
    "        print(\"Good Bye !!!!!\")\n",
    "    select=input(\"Do you want to continue(Y/N)\")\n",
    "    if select.lower()=='n':\n",
    "        print(\"Thank You\")\n",
    "        flag=False   "
   ]
  },
  {
   "cell_type": "code",
   "execution_count": 58,
   "id": "003a3f59-d47d-431e-a13e-098612d2bc54",
   "metadata": {},
   "outputs": [
    {
     "name": "stdout",
     "output_type": "stream",
     "text": [
      "['ayus', '1', 'shh', 'fdfs', 'fsdf']\n"
     ]
    }
   ],
   "source": [
    "print(lst)"
   ]
  },
  {
   "cell_type": "code",
   "execution_count": 72,
   "id": "c50ab1c6-af0b-4999-aa77-3560c9ab4e59",
   "metadata": {},
   "outputs": [
    {
     "name": "stdin",
     "output_type": "stream",
     "text": [
      "Enter the elements of the list 21\n",
      "Enter the elements of the list 487\n",
      "Enter the elements of the list 55\n",
      "Enter the elements of the list 874\n",
      "Enter the elements of the list 545\n",
      "Enter the elements of the list 87\n"
     ]
    },
    {
     "name": "stdout",
     "output_type": "stream",
     "text": [
      "[874, 545, 487, 87, 55, 21]\n"
     ]
    }
   ],
   "source": [
    "# Sort the list in descending order.\n",
    "lst=[(int(input(\"Enter the elements of the list\"))) for i in range (6)]\n",
    "for i in range(len(lst)):\n",
    "    for j in range(i+1,len(lst)):\n",
    "        if lst[j]>lst[i]:\n",
    "            lst[j],lst[i]=lst[i],lst[j]\n",
    "print(lst)"
   ]
  },
  {
   "cell_type": "code",
   "execution_count": 73,
   "id": "3b969ddf-23c8-4e01-a9e5-133681a02be1",
   "metadata": {},
   "outputs": [
    {
     "name": "stdin",
     "output_type": "stream",
     "text": [
      "Enter the elements of the list 65\n",
      "Enter the elements of the list 1\n",
      "Enter the elements of the list 45\n",
      "Enter the elements of the list 23\n",
      "Enter the elements of the list 646\n",
      "Enter the elements of the list 454\n"
     ]
    },
    {
     "name": "stdout",
     "output_type": "stream",
     "text": [
      "[1, 23, 45, 65, 454, 646]\n"
     ]
    }
   ],
   "source": [
    "# # Sort the list in ascending order.\n",
    "lst=[(int(input(\"Enter the elements of the list\"))) for i in range (6)]\n",
    "for i in range(len(lst)):\n",
    "    for j in range(i+1,len(lst)):\n",
    "        if lst[j]<lst[i]:\n",
    "            lst[j],lst[i]=lst[i],lst[j]\n",
    "print(lst)"
   ]
  },
  {
   "cell_type": "code",
   "execution_count": 74,
   "id": "5527026d-2e4e-45c7-845d-c8e32e129dd2",
   "metadata": {},
   "outputs": [
    {
     "name": "stdout",
     "output_type": "stream",
     "text": [
      "[1, 23, 45, 65, 454, 646]\n",
      "[646, 454, 65, 45, 23, 1]\n"
     ]
    }
   ],
   "source": [
    "# using pre defined functions\n",
    "asc=sorted(lst)\n",
    "print(asc)\n",
    "dcs=sorted(lst, reverse=True)\n",
    "print(dcs)"
   ]
  },
  {
   "cell_type": "code",
   "execution_count": 75,
   "id": "e15f5e0b-1d99-413c-a5f7-4191a981c5cf",
   "metadata": {},
   "outputs": [
    {
     "name": "stdout",
     "output_type": "stream",
     "text": [
      "[1, 23, 45, 65, 454, 646]\n"
     ]
    }
   ],
   "source": [
    "print(lst)"
   ]
  },
  {
   "cell_type": "code",
   "execution_count": 79,
   "id": "be268659-8697-40fd-a057-e16bebca7c5b",
   "metadata": {},
   "outputs": [
    {
     "name": "stdin",
     "output_type": "stream",
     "text": [
      "Enter the elements of the list 26\n",
      "Enter the elements of the list 5\n",
      "Enter the elements of the list 47\n",
      "Enter the elements of the list 58\n",
      "Enter the elements of the list 25\n",
      "Enter the elements of the list 5\n"
     ]
    },
    {
     "name": "stdout",
     "output_type": "stream",
     "text": [
      "[26, 5, 47, 58, 25, 5]\n",
      "[5, 25, 58, 47, 5, 26]\n"
     ]
    }
   ],
   "source": [
    "# Reverse the list using a method and slicing\n",
    "ls=[(int(input(\"Enter the elements of the list\"))) for i in range (6)]\n",
    "print(ls)\n",
    "print(ls[::-1])"
   ]
  },
  {
   "cell_type": "code",
   "execution_count": 91,
   "id": "507a7516-9d64-4ed9-93b4-99d528091eb0",
   "metadata": {},
   "outputs": [
    {
     "name": "stdin",
     "output_type": "stream",
     "text": [
      "Enter the no of elements\n",
      " 6\n",
      "Enter the elements of the list 1\n",
      "Enter the elements of the list 2\n",
      "Enter the elements of the list 3\n",
      "Enter the elements of the list 4\n",
      "Enter the elements of the list 5\n",
      "Enter the elements of the list 6\n"
     ]
    },
    {
     "name": "stdout",
     "output_type": "stream",
     "text": [
      "[1, 2, 3, 4, 5, 6]\n",
      "[6, 5, 4, 3, 2, 1]\n"
     ]
    }
   ],
   "source": [
    "# reverse a list with loop\n",
    "ls=[(int(input(\"Enter the elements of the list\"))) for i in range (int(input(\"Enter the no of elements\\n\")))]\n",
    "print(ls)\n",
    "n=len(ls)\n",
    "for i in range(0,n//2):\n",
    "    ls[i],ls[n-i-1]=ls[n-i-1],ls[i]\n",
    "print(ls)"
   ]
  },
  {
   "cell_type": "code",
   "execution_count": 95,
   "id": "8a46a6bd-a0d9-4113-bfcf-97d83209cc0d",
   "metadata": {},
   "outputs": [
    {
     "name": "stdin",
     "output_type": "stream",
     "text": [
      "Enter the no of elements\n",
      " 7\n",
      "Enter the elements of the list 5\n",
      "Enter the elements of the list 65\n",
      "Enter the elements of the list 85\n",
      "Enter the elements of the list 5\n",
      "Enter the elements of the list 5\n",
      "Enter the elements of the list 7\n",
      "Enter the elements of the list 5\n"
     ]
    },
    {
     "name": "stdout",
     "output_type": "stream",
     "text": [
      "[5, 65, 85, 5, 5, 7, 5]\n",
      "4\n"
     ]
    }
   ],
   "source": [
    "# Count the number of times a value occurs using \n",
    "ls=[(int(input(\"Enter the elements of the list\"))) for i in range (int(input(\"Enter the no of elements\\n\")))]\n",
    "print(ls)\n",
    "print(ls.count(5))\n"
   ]
  },
  {
   "cell_type": "code",
   "execution_count": 97,
   "id": "a473838f-0032-4759-b924-a41fe804f52e",
   "metadata": {},
   "outputs": [
    {
     "name": "stdin",
     "output_type": "stream",
     "text": [
      "Enter the no of elements\n",
      " 8\n",
      "Enter the elements of the list 1\n",
      "Enter the elements of the list 2\n",
      "Enter the elements of the list 5\n",
      "Enter the elements of the list 2\n",
      "Enter the elements of the list 2\n",
      "Enter the elements of the list 85\n",
      "Enter the elements of the list 2\n",
      "Enter the elements of the list 56\n"
     ]
    },
    {
     "name": "stdout",
     "output_type": "stream",
     "text": [
      "[1, 2, 5, 2, 2, 85, 2, 56]\n"
     ]
    },
    {
     "name": "stdin",
     "output_type": "stream",
     "text": [
      "Enter element whoose occurence you want to count 2\n"
     ]
    },
    {
     "name": "stdout",
     "output_type": "stream",
     "text": [
      "0\n"
     ]
    }
   ],
   "source": [
    "# Count the number of times a value occurs using loop\n",
    "ls=[(int(input(\"Enter the elements of the list\"))) for i in range (int(input(\"Enter the no of elements\\n\")))]\n",
    "print(ls)\n",
    "ele=input(\"Enter element whoose occurence you want to count\")\n",
    "count=0\n",
    "for i in ls:\n",
    "    if i == ele:\n",
    "        coun+=1\n",
    "print(count)\n",
    "    "
   ]
  },
  {
   "cell_type": "code",
   "execution_count": null,
   "id": "e8116206-9c41-41cf-bed2-8870f3a9a65d",
   "metadata": {},
   "outputs": [],
   "source": []
  }
 ],
 "metadata": {
  "kernelspec": {
   "display_name": "Python 3 (ipykernel)",
   "language": "python",
   "name": "python3"
  },
  "language_info": {
   "codemirror_mode": {
    "name": "ipython",
    "version": 3
   },
   "file_extension": ".py",
   "mimetype": "text/x-python",
   "name": "python",
   "nbconvert_exporter": "python",
   "pygments_lexer": "ipython3",
   "version": "3.12.7"
  }
 },
 "nbformat": 4,
 "nbformat_minor": 5
}
